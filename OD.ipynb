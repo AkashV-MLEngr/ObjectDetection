{
 "cells": [
  {
   "cell_type": "code",
   "execution_count": 1,
   "metadata": {},
   "outputs": [
    {
     "name": "stdout",
     "output_type": "stream",
     "text": [
      "() ()\n",
      "() ()\n",
      "() ()\n",
      "() ()\n",
      "() ()\n",
      "() ()\n",
      "() ()\n",
      "() ()\n",
      "() ()\n",
      "() ()\n",
      "() ()\n"
     ]
    },
    {
     "name": "stdout",
     "output_type": "stream",
     "text": [
      "() ()\n",
      "() ()\n",
      "() ()\n",
      "() ()\n",
      "() ()\n",
      "() ()\n",
      "() ()\n",
      "() ()\n",
      "() ()\n",
      "() ()\n",
      "() ()\n",
      "() ()\n",
      "() ()\n",
      "() ()\n",
      "() ()\n",
      "() ()\n",
      "() ()\n",
      "() ()\n",
      "() ()\n",
      "() ()\n",
      "() ()\n"
     ]
    }
   ],
   "source": [
    "import cv2\n",
    "thres = 0.6\n",
    "cap = cv2.VideoCapture(0)\n",
    "cap.set(3, 648)\n",
    "cap.set(4, 480)\n",
    "\n",
    "classNames=[]\n",
    "classFile = 'coco.names'\n",
    "with open(classFile,'rt') as f:\n",
    "    classNames = f.read().rstrip('\\n').split('\\n')\n",
    "\n",
    "configPath ='ssd_mobilenet_v3_large_coco_2020_01_14.pbtxt'      \n",
    "weighsPath ='frozen_inference_graph.pb' \n",
    "net = cv2.dnn_DetectionModel(weighsPath, configPath)   \n",
    "net.setInputSize(320,320)\n",
    "net.setInputScale(1.0/127.5)\n",
    "net.setInputMean((127.5, 127.5, 127.5))\n",
    "net.setInputSwapRB(True)\n",
    "while True:\n",
    "    success, img = cap.read()\n",
    "\n",
    "    classIds, confs, bbox = net.detect(img, confThreshold = thres)\n",
    "    print(classIds,bbox)        #bbox - bounding box\n",
    "    if len(classIds) !=0:\n",
    "        for classId, confidence, box in zip(classIds.flatten(),confs.flatten(),bbox):       \n",
    "            cv2.rectangle(img,box,color=(255,0,0),thickness=2)\n",
    "            cv2.putText(img,classNames[classId-1],(box[0]+10,box[1]+30),cv2.FONT_HERSHEY_COMPLEX,1,(0,255,0),2)\n",
    "            cv2.putText(img,str(round(confidence*100,2)),(box[0] + 350, box[1] + 30), cv2.FONT_HERSHEY_COMPLEX, 1, (0, 255, 0),2)\n",
    "\n",
    "    cv2.imshow(\"Output\", img)\n",
    "    cv2.waitKey(1)"
   ]
  },
  {
   "cell_type": "code",
   "execution_count": null,
   "metadata": {},
   "outputs": [],
   "source": []
  },
  {
   "cell_type": "code",
   "execution_count": null,
   "metadata": {},
   "outputs": [],
   "source": []
  },
  {
   "cell_type": "code",
   "execution_count": null,
   "metadata": {},
   "outputs": [],
   "source": []
  },
  {
   "cell_type": "code",
   "execution_count": null,
   "metadata": {},
   "outputs": [],
   "source": []
  },
  {
   "cell_type": "code",
   "execution_count": null,
   "metadata": {},
   "outputs": [],
   "source": []
  },
  {
   "cell_type": "code",
   "execution_count": null,
   "metadata": {},
   "outputs": [],
   "source": []
  },
  {
   "cell_type": "code",
   "execution_count": null,
   "metadata": {},
   "outputs": [],
   "source": []
  }
 ],
 "metadata": {
  "kernelspec": {
   "display_name": "Python 3 (ipykernel)",
   "language": "python",
   "name": "python3"
  },
  "language_info": {
   "codemirror_mode": {
    "name": "ipython",
    "version": 3
   },
   "file_extension": ".py",
   "mimetype": "text/x-python",
   "name": "python",
   "nbconvert_exporter": "python",
   "pygments_lexer": "ipython3",
   "version": "3.11.0"
  }
 },
 "nbformat": 4,
 "nbformat_minor": 2
}
